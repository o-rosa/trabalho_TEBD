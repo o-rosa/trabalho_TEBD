{
 "cells": [
  {
   "cell_type": "code",
   "execution_count": 1,
   "id": "8d83617d",
   "metadata": {},
   "outputs": [],
   "source": [
    "import datetime\n",
    "from pyspark.sql import SparkSession\n",
    "from pyspark.sql import functions as F\n",
    "from datetime import date\n",
    "from pyspark.sql.functions import sum, col, desc, asc, avg, stddev_samp, var_samp, round\n",
    "from datetime import datetime\n",
    "import numpy as np\n",
    "import matplotlib.pyplot as plt\n",
    "from pyspark.sql import SQLContext\n",
    "import pandas as pd\n",
    "from pyspark.sql.types import StructType,StructField, StringType, IntegerType\n",
    "from pyspark.sql.functions import udf"
   ]
  },
  {
   "cell_type": "code",
   "execution_count": 2,
   "id": "1a15ea21",
   "metadata": {},
   "outputs": [],
   "source": [
    "#Roda localmente, altere os caminhos para funcionar\n",
    "\n",
    "source_file = '/home/otavio/Documentos/bd3/tabela_atualizada.csv'\n",
    "target_file = '/home/otavio/Documentos/bd3/tabela_atualizada_utf8.csv'\n",
    "source_file_2021 = '/home/otavio/Documentos/bd3/2021_04.csv'\n",
    "target_file_2021 = '/home/otavio/Documentos/bd3/2021_04_utf8.csv'\n",
    "source_file_2020 = '/home/otavio/Documentos/bd3/2020_04.csv'\n",
    "target_file_2020 = '/home/otavio/Documentos/bd3/2020_04_utf8.csv'"
   ]
  },
  {
   "cell_type": "code",
   "execution_count": 3,
   "id": "6b35bb54",
   "metadata": {},
   "outputs": [],
   "source": [
    "\n",
    "\n",
    "\n",
    "with open(source_file, 'rb') as source:\n",
    "    with open(target_file, 'w+b') as target:\n",
    "        contents = source.read()\n",
    "        target.write(contents.decode('utf-16').encode('utf-8'))\n",
    "\n",
    "with open(target_file, encoding=\"utf8\", errors='ignore') as f:\n",
    "    contents = f.read()\n",
    "\n",
    "array = contents.split('\\n')\n",
    "array.pop(0)\n",
    "\n",
    "matriz = []\n",
    "for linha in array:\n",
    "    valor = linha.split(',')\n",
    "    matriz.append(valor)\n",
    "\n",
    "\n",
    "pandasDF = pd.DataFrame(matriz)\n"
   ]
  },
  {
   "cell_type": "code",
   "execution_count": 19,
   "id": "32ba59f0",
   "metadata": {},
   "outputs": [],
   "source": [
    "\n",
    "mySchema = StructType([StructField(\"regiao\", StringType(), True),\\\n",
    "                       StructField(\"uf\", StringType(), True),\\\n",
    "                       StructField(\"sexo\", StringType(), True),\\\n",
    "                       StructField(\"idade\", StringType(), True),\\\n",
    "                       StructField(\"categoria\", StringType(), True),\\\n",
    "                       StructField(\"quantidade_condutor\", StringType(), True)])\n",
    "\n",
    "#Create PySpark SparkSession\n",
    "spark = SparkSession.builder.getOrCreate()\n",
    "#Create PySpark DataFrame from Pandas\n",
    "sparkDF=spark.createDataFrame(pandasDF,schema=mySchema) \n",
    "\n",
    "sparkDF = sparkDF.withColumn(\"quantidade_condutor\", sparkDF.quantidade_condutor.cast('integer'))\n",
    "sparkDF = sparkDF.na.drop(\"any\")"
   ]
  },
  {
   "cell_type": "code",
   "execution_count": 5,
   "id": "c568e973",
   "metadata": {},
   "outputs": [
    {
     "name": "stdout",
     "output_type": "stream",
     "text": [
      "+------------+------------------------+\n",
      "|Região      |Quantidade de condutores|\n",
      "+------------+------------------------+\n",
      "|Norte       |4044698                 |\n",
      "|Centro-Oeste|7188875                 |\n",
      "|Nordeste    |12090065                |\n",
      "|Sul         |15225419                |\n",
      "|Sudeste     |39368146                |\n",
      "|Total       |77917203                |\n",
      "+------------+------------------------+\n",
      "\n"
     ]
    }
   ],
   "source": [
    "columns = ['regiao', 'sum(quantidade_condutor)']\n",
    "total = sparkDF.groupBy().sum(\"quantidade_condutor\").rdd.flatMap(lambda x: x).collect()\n",
    "vals = [('Total', int(total[0]))]\n",
    "totalRow = spark.createDataFrame(vals, columns)\n",
    "\n",
    "df_soma_contudores = sparkDF\\\n",
    "        .groupBy(\"regiao\")\\\n",
    "        .sum(\"quantidade_condutor\")\\\n",
    "        .orderBy(\"sum(quantidade_condutor)\")\n",
    "\n",
    "df_soma_contudores = df_soma_contudores.union(totalRow)\n",
    "\n",
    "df_soma_contudores =  df_soma_contudores\\\n",
    "        .withColumnRenamed(\"sum(quantidade_condutor)\", \"Quantidade de condutores\")\\\n",
    "        .withColumnRenamed(\"regiao\", \"Região\")\\\n",
    "        .show(truncate=False)"
   ]
  },
  {
   "cell_type": "code",
   "execution_count": 6,
   "id": "d5cf3574",
   "metadata": {},
   "outputs": [
    {
     "data": {
      "text/plain": [
       "<AxesSubplot:xlabel='Estados do sudeste'>"
      ]
     },
     "execution_count": 6,
     "metadata": {},
     "output_type": "execute_result"
    },
    {
     "data": {
      "image/png": "[encoded data removed]",
      "text/plain": [
       "<Figure size 432x288 with 1 Axes>"
      ]
     },
     "metadata": {
      "needs_background": "light"
     },
     "output_type": "display_data"
    }
   ],
   "source": [
    "df_sudoeste = sparkDF\\\n",
    "        .filter(sparkDF.regiao == 'Sudeste')\\\n",
    "        .groupBy(\"uf\")\\\n",
    "        .sum(\"quantidade_condutor\")\n",
    "\n",
    "data_sudoeste = df_sudoeste.select(col(\"sum(quantidade_condutor)\")).rdd.flatMap(lambda x: x).collect()\n",
    "index_sudoeste = df_sudoeste.select(col(\"uf\")).rdd.flatMap(lambda x: x).collect()\n",
    "\n",
    "soma_total = 0\n",
    "for estado in data_sudoeste:\n",
    "    soma_total += int(estado)\n",
    "\n",
    "i = 0\n",
    "while(i < len(data_sudoeste)):\n",
    "    data_sudoeste[i] = data_sudoeste[i]/soma_total*100\n",
    "    i += 1\n",
    "    \n",
    "df = pd.DataFrame({'Estados do sudeste': index_sudoeste, 'Porcentagem de condutores': data_sudoeste})\n",
    "df.plot.bar(x='Estados do sudeste', y='Porcentagem de condutores') "
   ]
  },
  {
   "cell_type": "code",
   "execution_count": 7,
   "id": "ddedd6d9",
   "metadata": {},
   "outputs": [
    {
     "data": {
      "text/plain": [
       "<AxesSubplot:ylabel='Categorias'>"
      ]
     },
     "execution_count": 7,
     "metadata": {},
     "output_type": "execute_result"
    },
    {
     "data": {
      "image/png": "[encoded data removed]",
      "text/plain": [
       "<Figure size 432x288 with 1 Axes>"
      ]
     },
     "metadata": {
      "needs_background": "light"
     },
     "output_type": "display_data"
    }
   ],
   "source": [
    " df_categoria = sparkDF\\\n",
    "        .filter(sparkDF.uf == 'São Paulo')\\\n",
    "        .groupBy(\"categoria\")\\\n",
    "        .sum(\"quantidade_condutor\")\n",
    "\n",
    "data_categoria = df_categoria.select(col(\"sum(quantidade_condutor)\")).rdd.flatMap(lambda x: x).collect()\n",
    "index_categoria = df_categoria.select(col(\"categoria\")).rdd.flatMap(lambda x: x).collect()\n",
    "\n",
    "soma_total = 0\n",
    "for cat in data_categoria:\n",
    "    soma_total += int(cat)\n",
    "\n",
    "i = 0\n",
    "while(i < len(data_categoria)):\n",
    "    data_categoria[i] = data_categoria[i]/soma_total*100\n",
    "    i += 1\n",
    "    \n",
    "df = pd.DataFrame({'Categorias': index_categoria, 'Porcentagem de condutores': data_categoria})\n",
    "df.plot.barh(x='Categorias', y='Porcentagem de condutores') "
   ]
  },
  {
   "cell_type": "code",
   "execution_count": 8,
   "id": "9ba3c08d",
   "metadata": {
    "scrolled": false
   },
   "outputs": [
    {
     "data": {
      "text/plain": [
       "<AxesSubplot:ylabel='Categorias'>"
      ]
     },
     "execution_count": 8,
     "metadata": {},
     "output_type": "execute_result"
    },
    {
     "data": {
      "image/png": "[encoded data removed]",
      "text/plain": [
       "<Figure size 432x288 with 1 Axes>"
      ]
     },
     "metadata": {
      "needs_background": "light"
     },
     "output_type": "display_data"
    }
   ],
   "source": [
    " df_categoria2 = sparkDF\\\n",
    "        .filter(sparkDF.uf == 'São Paulo')\\\n",
    "        .filter(sparkDF.categoria != 'AB-Condutor Moto/Carro')\\\n",
    "        .filter(sparkDF.categoria != 'B-Condutor Carro')\\\n",
    "        .groupBy(\"categoria\")\\\n",
    "        .sum(\"quantidade_condutor\")\n",
    "\n",
    "data_categoria = df_categoria2.select(col(\"sum(quantidade_condutor)\")).rdd.flatMap(lambda x: x).collect()\n",
    "index_categoria = df_categoria2.select(col(\"categoria\")).rdd.flatMap(lambda x: x).collect()\n",
    "\n",
    "soma_total = 0\n",
    "for cat in data_categoria:\n",
    "    soma_total += int(cat)\n",
    "\n",
    "i = 0\n",
    "while(i < len(data_categoria)):\n",
    "    data_categoria[i] = data_categoria[i]/soma_total*100\n",
    "    i += 1\n",
    "\n",
    "df = pd.DataFrame({'Categorias': index_categoria, 'Porcentagem de condutores': data_categoria})\n",
    "df.plot.barh(x='Categorias', y='Porcentagem de condutores') "
   ]
  },
  {
   "cell_type": "code",
   "execution_count": 9,
   "id": "0f9dba08",
   "metadata": {},
   "outputs": [
    {
     "name": "stdout",
     "output_type": "stream",
     "text": [
      "+-----------------------------+------------------------+\n",
      "|categoria                    |Quantidade de condutores|\n",
      "+-----------------------------+------------------------+\n",
      "|AE-Condutor Moto/Carreta     |351623                  |\n",
      "|X-Condutor Ciclomotor        |20                      |\n",
      "|C-Condutor Caminhão          |376308                  |\n",
      "|AD-Condutor Moto/Ônibus      |1027689                 |\n",
      "|A-Condutor Moto              |229388                  |\n",
      "|XD-Condutor Ciclomotor/Ônibus|1                       |\n",
      "|XB-Condutor Ciclomotor/Carro |46                      |\n",
      "|D-Condutor Ônibus            |1008561                 |\n",
      "|AC-Condutor Moto/Caminhão    |326150                  |\n",
      "|E-Condutor Carreta           |186491                  |\n",
      "+-----------------------------+------------------------+\n",
      "\n"
     ]
    }
   ],
   "source": [
    "df_categoria2.withColumnRenamed(\"sum(quantidade_condutor)\", \"Quantidade de condutores\")\\\n",
    "             .show(truncate=False)"
   ]
  },
  {
   "cell_type": "code",
   "execution_count": 10,
   "id": "821d88b8",
   "metadata": {},
   "outputs": [
    {
     "name": "stdout",
     "output_type": "stream",
     "text": [
      "+----------------------+-----------+------------------------+\n",
      "|categoria             |idade      |Quantidade de condutores|\n",
      "+----------------------+-----------+------------------------+\n",
      "|B-Condutor Carro      |41 a 50    |2697761                 |\n",
      "|B-Condutor Carro      |31 a 40    |2641717                 |\n",
      "|AB-Condutor Moto/Carro|31 a 40    |2553415                 |\n",
      "|B-Condutor Carro      |51 a 60    |2041401                 |\n",
      "|B-Condutor Carro      |61 a 70    |1706868                 |\n",
      "|AB-Condutor Moto/Carro|41 a 50    |1635021                 |\n",
      "|AB-Condutor Moto/Carro|26 a 30    |1175647                 |\n",
      "|B-Condutor Carro      |71 a 80    |1042247                 |\n",
      "|B-Condutor Carro      |26 a 30    |1001247                 |\n",
      "|AB-Condutor Moto/Carro|51 a 60    |795153                  |\n",
      "|AB-Condutor Moto/Carro|22 a 25    |780704                  |\n",
      "|B-Condutor Carro      |22 a 25    |617093                  |\n",
      "|B-Condutor Carro      |81 a 90    |475762                  |\n",
      "|AB-Condutor Moto/Carro|18 a 21    |352033                  |\n",
      "|AB-Condutor Moto/Carro|61 a 70    |338218                  |\n",
      "|B-Condutor Carro      |18 a 21    |239646                  |\n",
      "|B-Condutor Carro      |91 a 100   |171264                  |\n",
      "|AB-Condutor Moto/Carro|71 a 80    |113086                  |\n",
      "|A-Condutor Moto       |31 a 40    |68944                   |\n",
      "|A-Condutor Moto       |41 a 50    |46001                   |\n",
      "|A-Condutor Moto       |26 a 30    |37942                   |\n",
      "|A-Condutor Moto       |22 a 25    |33149                   |\n",
      "|AB-Condutor Moto/Carro|81 a 90    |31963                   |\n",
      "|A-Condutor Moto       |51 a 60    |23650                   |\n",
      "|B-Condutor Carro      |101 a 120  |19864                   |\n",
      "|A-Condutor Moto       |18 a 21    |9063                    |\n",
      "|A-Condutor Moto       |61 a 70    |7523                    |\n",
      "|AB-Condutor Moto/Carro|91 a 100   |7121                    |\n",
      "|A-Condutor Moto       |71 a 80    |2185                    |\n",
      "|A-Condutor Moto       |81 a 90    |744                     |\n",
      "|AB-Condutor Moto/Carro|101 a 120  |578                     |\n",
      "|A-Condutor Moto       |91 a 100   |171                     |\n",
      "|A-Condutor Moto       |101 a 120  |16                      |\n",
      "|AB-Condutor Moto/Carro|Mais de 120|1                       |\n",
      "+----------------------+-----------+------------------------+\n",
      "\n"
     ]
    }
   ],
   "source": [
    "df_autoescola = sparkDF\\\n",
    "        .filter(sparkDF.uf == 'São Paulo')\\\n",
    "        .filter((sparkDF.categoria == 'AB-Condutor Moto/Carro') | (sparkDF.categoria == 'B-Condutor Carro') | (sparkDF.categoria == 'A-Condutor Moto'))\\\n",
    "        .groupBy(\"categoria\",\"idade\")\\\n",
    "        .sum(\"quantidade_condutor\")\\\n",
    "        .withColumnRenamed(\"sum(quantidade_condutor)\", \"Quantidade de condutores\")\\\n",
    "        .orderBy(col('Quantidade de condutores').desc())\n",
    "\n",
    "df_autoescola.show(truncate=False, n=50)"
   ]
  },
  {
   "cell_type": "code",
   "execution_count": 11,
   "id": "95c2d9a7",
   "metadata": {},
   "outputs": [
    {
     "name": "stdout",
     "output_type": "stream",
     "text": [
      "+--------+------------------------+\n",
      "|   idade|Quantidade de condutores|\n",
      "+--------+------------------------+\n",
      "|91 a 100|                  178556|\n",
      "| 81 a 90|                  508469|\n",
      "| 71 a 80|                 1157518|\n",
      "| 61 a 70|                 2052609|\n",
      "| 51 a 60|                 2860204|\n",
      "| 41 a 50|                 4378783|\n",
      "| 31 a 40|                 5264076|\n",
      "| 18 a 30|                 4246524|\n",
      "+--------+------------------------+\n",
      "\n"
     ]
    },
    {
     "data": {
      "text/plain": [
       "<AxesSubplot:ylabel='Idades'>"
      ]
     },
     "execution_count": 11,
     "metadata": {},
     "output_type": "execute_result"
    },
    {
     "data": {
      "image/png": "[encoded data removed]",
      "text/plain": [
       "<Figure size 432x288 with 1 Axes>"
      ]
     },
     "metadata": {
      "needs_background": "light"
     },
     "output_type": "display_data"
    }
   ],
   "source": [
    "df_autoescola_idade = df_autoescola.groupBy(\"idade\")\\\n",
    "        .sum(\"Quantidade de condutores\")\\\n",
    "        .filter(df_autoescola.idade != 'Mais de 120')\\\n",
    "        .filter(df_autoescola.idade != '101 a 120')\\\n",
    "        .filter(df_autoescola.idade != '18 a 21')\\\n",
    "        .filter(df_autoescola.idade != '22 a 25')\\\n",
    "        .filter(df_autoescola.idade != '26 a 30')\\\n",
    "        .withColumnRenamed(\"sum(Quantidade de condutores)\", \"Quantidade de condutores\")\\\n",
    "        .orderBy(col('idade').desc())\n",
    "\n",
    "#juntando 18 a 21, 22 a 25 e 26 a 30\n",
    "df_autoescola_idade_menor_30 = df_autoescola\\\n",
    "        .filter((df_autoescola.idade == '18 a 21')|(df_autoescola.idade == '22 a 25')|(df_autoescola.idade == '26 a 30'))\\\n",
    "        .groupBy()\\\n",
    "        .sum(\"Quantidade de condutores\")\\\n",
    "        .withColumnRenamed(\"sum(Quantidade de condutores)\", \"Quantidade de condutores\")\n",
    "\n",
    "menor_30 = df_autoescola_idade_menor_30.select(col(\"Quantidade de condutores\")).rdd.flatMap(lambda x: x).collect()\n",
    "columns = ['idade', 'Quantidade de condutores']\n",
    "vals = [('18 a 30', int(menor_30[0]))]\n",
    "totalRow = spark.createDataFrame(vals, columns)\n",
    "\n",
    "df_autoescola_idade = df_autoescola_idade.union(totalRow)\n",
    "df_autoescola_idade.show()\n",
    "\n",
    "\n",
    "data_idade = df_autoescola_idade.select(col(\"Quantidade de condutores\")).rdd.flatMap(lambda x: x).collect()\n",
    "index_idade = df_autoescola_idade.select(col(\"idade\")).rdd.flatMap(lambda x: x).collect()\n",
    "\n",
    "\n",
    "df = pd.DataFrame({'Idades': index_idade, 'Porcentagem de condutores': data_idade})\n",
    "df.plot.barh(x='Idades', y='Porcentagem de condutores') "
   ]
  },
  {
   "cell_type": "code",
   "execution_count": 12,
   "id": "29a9dcb3",
   "metadata": {},
   "outputs": [
    {
     "name": "stdout",
     "output_type": "stream",
     "text": [
      "+----------------------+-------+------------------------+\n",
      "|categoria             |idade  |Quantidade de condutores|\n",
      "+----------------------+-------+------------------------+\n",
      "|AB-Condutor Moto/Carro|18 a 30|2308384                 |\n",
      "|AB-Condutor Moto/Carro|31 a 40|2553415                 |\n",
      "|B-Condutor Carro      |18 a 30|1857986                 |\n",
      "|B-Condutor Carro      |31 a 40|2641717                 |\n",
      "+----------------------+-------+------------------------+\n",
      "\n"
     ]
    }
   ],
   "source": [
    "df_2022 = sparkDF\\\n",
    "        .filter(sparkDF.uf == 'São Paulo')\\\n",
    "        .filter((sparkDF.categoria == 'AB-Condutor Moto/Carro') | (sparkDF.categoria == 'B-Condutor Carro'))\\\n",
    "        .filter(df_autoescola.idade == '31 a 40')\\\n",
    "        .groupBy(\"categoria\",\"idade\")\\\n",
    "        .sum(\"quantidade_condutor\")\\\n",
    "        .withColumnRenamed(\"sum(quantidade_condutor)\", \"Quantidade de condutores\")\\\n",
    "        \n",
    "\n",
    "df_2022_2 = sparkDF\\\n",
    "        .filter(sparkDF.uf == 'São Paulo')\\\n",
    "        .filter((sparkDF.categoria == 'AB-Condutor Moto/Carro') | (sparkDF.categoria == 'B-Condutor Carro'))\\\n",
    "        .filter((df_autoescola.idade == '18 a 21')|(df_autoescola.idade == '22 a 25')|(df_autoescola.idade == '26 a 30'))\\\n",
    "        .groupBy(\"categoria\")\\\n",
    "        .sum(\"quantidade_condutor\")\\\n",
    "        .withColumnRenamed(\"sum(quantidade_condutor)\", \"Quantidade de condutores\")\\\n",
    "        .orderBy(col('categoria'))\n",
    "    \n",
    "menor_30 = df_2022_2.select(col(\"Quantidade de condutores\")).rdd.flatMap(lambda x: x).collect()\n",
    "columns = ['categoria','idade', 'Quantidade de condutores']\n",
    "vals1 = [('AB-Condutor Moto/Carro','18 a 30', int(menor_30[0]))]\n",
    "vals2 = [('B-Condutor Carro','18 a 30', int(menor_30[1]))]\n",
    "totalRow1 = spark.createDataFrame(vals1, columns)\n",
    "totalRow2 = spark.createDataFrame(vals2, columns)\n",
    "\n",
    "df_2022_res = df_2022.union(totalRow1)\n",
    "df_2022_res = df_2022_res.union(totalRow2)\n",
    "\n",
    "\n",
    "df_2022_res.orderBy(col('categoria'),col('idade')).show(truncate=False, n=50)"
   ]
  },
  {
   "cell_type": "code",
   "execution_count": 13,
   "id": "fecaba00",
   "metadata": {},
   "outputs": [],
   "source": [
    "# 2020 ===============\n",
    "\n",
    "\n",
    "with open(source_file_2020, 'rb') as source:\n",
    "    with open(target_file_2020, 'w+b') as target:\n",
    "        contents = source.read()\n",
    "        target.write(contents.decode('utf-16').encode('utf-8'))\n",
    "\n",
    "with open(target_file_2020, encoding=\"utf8\", errors='ignore') as f:\n",
    "    contents = f.read()\n",
    "\n",
    "array = contents.split('\\n')\n",
    "array.pop(0)\n",
    "\n",
    "matriz = []\n",
    "for linha in array:\n",
    "    valor = linha.split(',')\n",
    "    matriz.append(valor)\n",
    "\n",
    "def stripDQ(string):\n",
    "    return string.replace('\"', \"\").replace('.', \"\")\n",
    "udf_stripDQ = udf(stripDQ, StringType())\n",
    "\n",
    "pandasDF = pd.DataFrame(matriz)\n",
    "df_2020 = spark.createDataFrame(pandasDF,schema=mySchema) \n",
    "df_2020 = df_2020.na.drop(\"any\")\n",
    "df_2020 = df_2020.withColumn(\"quantidade_condutor\", udf_stripDQ(df_2020[\"quantidade_condutor\"])).withColumn(\"uf\", udf_stripDQ(df_2020[\"uf\"])).withColumn(\"regiao\", udf_stripDQ(df_2020[\"regiao\"])).withColumn(\"sexo\", udf_stripDQ(df_2020[\"sexo\"])).withColumn(\"idade\", udf_stripDQ(df_2020[\"idade\"])).withColumn(\"categoria\", udf_stripDQ(df_2020[\"categoria\"]))\n",
    "df_2020 = df_2020.withColumn(\"quantidade_condutor\", df_2020.quantidade_condutor.cast('integer'))\n"
   ]
  },
  {
   "cell_type": "code",
   "execution_count": 14,
   "id": "4565eb8e",
   "metadata": {},
   "outputs": [
    {
     "name": "stdout",
     "output_type": "stream",
     "text": [
      "+----------------------+-------+------------------------+\n",
      "|categoria             |idade  |Quantidade de condutores|\n",
      "+----------------------+-------+------------------------+\n",
      "|AB-Condutor Moto/Carro|18 a 30|2409933                 |\n",
      "|AB-Condutor Moto/Carro|31 a 40|2431260                 |\n",
      "|B-Condutor Carro      |18 a 30|1990684                 |\n",
      "|B-Condutor Carro      |31 a 40|2759295                 |\n",
      "+----------------------+-------+------------------------+\n",
      "\n"
     ]
    }
   ],
   "source": [
    "df_2020_1 = df_2020\\\n",
    "        .filter(df_2020.uf == 'São Paulo')\\\n",
    "        .filter((df_2020.categoria == 'AB-Condutor Moto/Carro') | (df_2020.categoria == 'B-Condutor Carro'))\\\n",
    "        .filter(df_2020.idade == '31 a 40')\\\n",
    "        .groupBy(\"categoria\",\"idade\")\\\n",
    "        .sum(\"quantidade_condutor\")\\\n",
    "        .withColumnRenamed(\"sum(quantidade_condutor)\", \"Quantidade de condutores\")\n",
    "\n",
    "df_2020_2 = df_2020\\\n",
    "        .filter(df_2020.uf == 'São Paulo')\\\n",
    "        .filter((df_2020.categoria == 'AB-Condutor Moto/Carro') | (df_2020.categoria == 'B-Condutor Carro'))\\\n",
    "        .filter((df_2020.idade == '18 a 21')|(df_2020.idade == '22 a 25')|(df_2020.idade == '26 a 30'))\\\n",
    "        .groupBy(\"categoria\")\\\n",
    "        .sum(\"quantidade_condutor\")\\\n",
    "        .withColumnRenamed(\"sum(quantidade_condutor)\", \"Quantidade de condutores\")\\\n",
    "        .orderBy(col('categoria'))\n",
    "\n",
    "menor_30 = df_2020_2.select(col(\"Quantidade de condutores\")).rdd.flatMap(lambda x: x).collect()\n",
    "columns = ['categoria','idade', 'Quantidade de condutores']\n",
    "vals1 = [('AB-Condutor Moto/Carro','18 a 30', int(menor_30[0]))]\n",
    "vals2 = [('B-Condutor Carro','18 a 30', int(menor_30[1]))]\n",
    "totalRow1 = spark.createDataFrame(vals1, columns)\n",
    "totalRow2 = spark.createDataFrame(vals2, columns)\n",
    "\n",
    "df_2020_res = df_2020_1.union(totalRow1)\n",
    "df_2020_res = df_2020_res.union(totalRow2)\n",
    "\n",
    "\n",
    "df_2020_res.orderBy(col('categoria'),col('idade')).show(truncate=False, n=50)"
   ]
  },
  {
   "cell_type": "code",
   "execution_count": 15,
   "id": "42027990",
   "metadata": {},
   "outputs": [],
   "source": [
    "# 2021 ===============\n",
    "\n",
    "\n",
    "with open(source_file_2021, 'rb') as source:\n",
    "    with open(target_file_2021, 'w+b') as target:\n",
    "        contents = source.read()\n",
    "        target.write(contents.decode('utf-16').encode('utf-8'))\n",
    "\n",
    "with open(target_file_2021, encoding=\"utf8\", errors='ignore') as f:\n",
    "    contents = f.read()\n",
    "\n",
    "array = contents.split('\\n')\n",
    "array.pop(0)\n",
    "\n",
    "matriz = []\n",
    "for linha in array:\n",
    "    valor = linha.split(',')\n",
    "    matriz.append(valor)\n",
    "\n",
    "def stripDQ(string):\n",
    "    return string.replace('\"', \"\").replace('.', \"\")\n",
    "udf_stripDQ = udf(stripDQ, StringType())\n",
    "\n",
    "pandasDF = pd.DataFrame(matriz)\n",
    "df_2021 = spark.createDataFrame(pandasDF,schema=mySchema) \n",
    "df_2021 = df_2021.na.drop(\"any\")\n",
    "df_2021 = df_2021.withColumn(\"quantidade_condutor\", udf_stripDQ(df_2021[\"quantidade_condutor\"])).withColumn(\"uf\", udf_stripDQ(df_2021[\"uf\"])).withColumn(\"regiao\", udf_stripDQ(df_2021[\"regiao\"])).withColumn(\"sexo\", udf_stripDQ(df_2021[\"sexo\"])).withColumn(\"idade\", udf_stripDQ(df_2021[\"idade\"])).withColumn(\"categoria\", udf_stripDQ(df_2021[\"categoria\"]))\n",
    "df_2021 = df_2021.withColumn(\"quantidade_condutor\", df_2021.quantidade_condutor.cast('integer'))"
   ]
  },
  {
   "cell_type": "code",
   "execution_count": 16,
   "id": "45aff106",
   "metadata": {
    "scrolled": true
   },
   "outputs": [
    {
     "name": "stdout",
     "output_type": "stream",
     "text": [
      "+----------------------+-------+------------------------+\n",
      "|categoria             |idade  |Quantidade de condutores|\n",
      "+----------------------+-------+------------------------+\n",
      "|AB-Condutor Moto/Carro|18 a 30|2261155                 |\n",
      "|AB-Condutor Moto/Carro|31 a 40|2487744                 |\n",
      "|B-Condutor Carro      |18 a 30|1851710                 |\n",
      "|B-Condutor Carro      |31 a 40|2690742                 |\n",
      "+----------------------+-------+------------------------+\n",
      "\n"
     ]
    }
   ],
   "source": [
    "df_2021_1 = df_2021\\\n",
    "        .filter(df_2021.uf == 'São Paulo')\\\n",
    "        .filter((df_2021.categoria == 'AB-Condutor Moto/Carro') | (df_2021.categoria == 'B-Condutor Carro'))\\\n",
    "        .filter(df_2021.idade == '31 a 40')\\\n",
    "        .groupBy(\"categoria\",\"idade\")\\\n",
    "        .sum(\"quantidade_condutor\")\\\n",
    "        .withColumnRenamed(\"sum(quantidade_condutor)\", \"Quantidade de condutores\")\n",
    "\n",
    "df_2021_2 = df_2021\\\n",
    "        .filter(df_2021.uf == 'São Paulo')\\\n",
    "        .filter((df_2021.categoria == 'AB-Condutor Moto/Carro') | (df_2021.categoria == 'B-Condutor Carro'))\\\n",
    "        .filter((df_2021.idade == '18 a 21')|(df_2021.idade == '22 a 25')|(df_2021.idade == '26 a 30'))\\\n",
    "        .groupBy(\"categoria\")\\\n",
    "        .sum(\"quantidade_condutor\")\\\n",
    "        .withColumnRenamed(\"sum(quantidade_condutor)\", \"Quantidade de condutores\")\\\n",
    "        .orderBy(col('categoria'))\n",
    "\n",
    "menor_30 = df_2021_2.select(col(\"Quantidade de condutores\")).rdd.flatMap(lambda x: x).collect()\n",
    "columns = ['categoria','idade', 'Quantidade de condutores']\n",
    "vals1 = [('AB-Condutor Moto/Carro','18 a 30', int(menor_30[0]))]\n",
    "vals2 = [('B-Condutor Carro','18 a 30', int(menor_30[1]))]\n",
    "totalRow1 = spark.createDataFrame(vals1, columns)\n",
    "totalRow2 = spark.createDataFrame(vals2, columns)\n",
    "\n",
    "df_2021_res = df_2021_1.union(totalRow1)\n",
    "df_2021_res = df_2021_res.union(totalRow2)\n",
    "\n",
    "\n",
    "df_2021_res.orderBy(col('categoria'),col('idade')).show(truncate=False, n=50)"
   ]
  },
  {
   "cell_type": "code",
   "execution_count": 17,
   "id": "83891128",
   "metadata": {},
   "outputs": [
    {
     "name": "stderr",
     "output_type": "stream",
     "text": [
      "                                                                                \r"
     ]
    }
   ],
   "source": [
    "res2022 = df_2022_res.select(col(\"Quantidade de condutores\")).rdd.flatMap(lambda x: x).collect()\n",
    "res2021 = df_2021_res.select(col(\"Quantidade de condutores\")).rdd.flatMap(lambda x: x).collect()\n",
    "res2020 = df_2020_res.select(col(\"Quantidade de condutores\")).rdd.flatMap(lambda x: x).collect()\n",
    "index = ['2020','2021','2022']\n",
    "categorias = [[res2020[0],res2021[0],res2022[0]],[res2020[1],res2021[1],res2022[1]],[res2020[2],res2021[2],res2022[2]],[res2020[3],res2021[3],res2022[3]]]"
   ]
  },
  {
   "cell_type": "code",
   "execution_count": 18,
   "id": "59269d8d",
   "metadata": {
    "scrolled": true
   },
   "outputs": [
    {
     "data": {
      "text/plain": [
       "<AxesSubplot:>"
      ]
     },
     "execution_count": 18,
     "metadata": {},
     "output_type": "execute_result"
    },
    {
     "data": {
      "image/png": "[encoded data removed]",
      "text/plain": [
       "<Figure size 432x288 with 1 Axes>"
      ]
     },
     "metadata": {
      "needs_background": "light"
     },
     "output_type": "display_data"
    }
   ],
   "source": [
    "df = pd.DataFrame({'B   | 31 a 40': categorias[0],'B   | 18 a 30': categorias[1],'AB | 31 a 40': categorias[2],'AB | 18 a 30': categorias[3]},index = ['2020','2021','2022'])\n",
    "df.plot.line() "
   ]
  }
 ],
 "metadata": {
  "kernelspec": {
   "display_name": "Python 3 (ipykernel)",
   "language": "python",
   "name": "python3"
  },
  "language_info": {
   "codemirror_mode": {
    "name": "ipython",
    "version": 3
   },
   "file_extension": ".py",
   "mimetype": "text/x-python",
   "name": "python",
   "nbconvert_exporter": "python",
   "pygments_lexer": "ipython3",
   "version": "3.8.10"
  }
 },
 "nbformat": 4,
 "nbformat_minor": 5
}
