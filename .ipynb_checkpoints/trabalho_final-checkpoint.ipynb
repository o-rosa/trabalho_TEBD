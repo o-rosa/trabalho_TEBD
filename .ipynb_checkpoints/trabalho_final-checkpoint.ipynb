{
 "cells": [
  {
   "cell_type": "code",
   "execution_count": 482,
   "id": "14bb8a74",
   "metadata": {},
   "outputs": [],
   "source": [
    "import datetime\n",
    "from pyspark.sql import SparkSession\n",
    "from pyspark.sql import functions as F\n",
    "from datetime import date\n",
    "from pyspark.sql.functions import sum, col, desc, asc, avg, stddev_samp, var_samp, round\n",
    "from datetime import datetime\n",
    "import numpy as np\n",
    "import matplotlib.pyplot as plt\n",
    "from pyspark.sql import SQLContext\n",
    "import pandas as pd\n",
    "from pyspark.sql.types import StructType,StructField, StringType, IntegerType\n",
    "from pyspark.sql.functions import udf"
   ]
  },
  {
   "cell_type": "code",
   "execution_count": 476,
   "id": "ffd2e16d",
   "metadata": {},
   "outputs": [],
   "source": [
    "\n",
    "source_file = '/home/otavio/Documentos/bd3/tabela_atualizada.csv'\n",
    "target_file = '/home/otavio/Documentos/bd3/tabela_atualizada_utf8.csv'\n",
    "\n",
    "with open(source_file, 'rb') as source:\n",
    "    with open(target_file, 'w+b') as target:\n",
    "        contents = source.read()\n",
    "        target.write(contents.decode('utf-16').encode('utf-8'))\n",
    "\n",
    "with open(target_file, encoding=\"utf8\", errors='ignore') as f:\n",
    "    contents = f.read()\n",
    "\n",
    "array = contents.split('\\n')\n",
    "array.pop(0)\n",
    "\n",
    "matriz = []\n",
    "for linha in array:\n",
    "    valor = linha.split(',')\n",
    "    matriz.append(valor)\n",
    "\n",
    "\n",
    "pandasDF = pd.DataFrame(matriz)\n"
   ]
  },
  {
   "cell_type": "code",
   "execution_count": 478,
   "id": "03f6194c",
   "metadata": {},
   "outputs": [
    {
     "name": "stdout",
     "output_type": "stream",
     "text": [
      "+------------+----------------+---------+-------+--------------------+-------------------+\n",
      "|      regiao|              uf|     sexo|  idade|           categoria|quantidade_condutor|\n",
      "+------------+----------------+---------+-------+--------------------+-------------------+\n",
      "|Centro-Oeste|Distrito Federal|Masculino|18 a 21|     A-Condutor Moto|                104|\n",
      "|Centro-Oeste|Distrito Federal|Masculino|18 a 21|AB-Condutor Moto/...|              10026|\n",
      "|Centro-Oeste|Distrito Federal|Masculino|18 a 21|AC-Condutor Moto/...|                  7|\n",
      "|Centro-Oeste|Distrito Federal|Masculino|18 a 21|AD-Condutor Moto/...|                 25|\n",
      "|Centro-Oeste|Distrito Federal|Masculino|18 a 21|    B-Condutor Carro|              15212|\n",
      "|Centro-Oeste|Distrito Federal|Masculino|18 a 21| C-Condutor Caminhão|                  7|\n",
      "|Centro-Oeste|Distrito Federal|Masculino|18 a 21|   D-Condutor Ônibus|                  7|\n",
      "|Centro-Oeste|Distrito Federal|Masculino|18 a 21|  E-Condutor Carreta|                  1|\n",
      "|Centro-Oeste|Distrito Federal|Masculino|22 a 25|     A-Condutor Moto|                459|\n",
      "|Centro-Oeste|Distrito Federal|Masculino|22 a 25|AB-Condutor Moto/...|              24043|\n",
      "|Centro-Oeste|Distrito Federal|Masculino|22 a 25|AC-Condutor Moto/...|                 22|\n",
      "|Centro-Oeste|Distrito Federal|Masculino|22 a 25|AD-Condutor Moto/...|               1118|\n",
      "|Centro-Oeste|Distrito Federal|Masculino|22 a 25|AE-Condutor Moto/...|                 70|\n",
      "|Centro-Oeste|Distrito Federal|Masculino|22 a 25|    B-Condutor Carro|              33545|\n",
      "|Centro-Oeste|Distrito Federal|Masculino|22 a 25| C-Condutor Caminhão|                 17|\n",
      "|Centro-Oeste|Distrito Federal|Masculino|22 a 25|   D-Condutor Ônibus|                404|\n",
      "|Centro-Oeste|Distrito Federal|Masculino|22 a 25|  E-Condutor Carreta|                 23|\n",
      "|Centro-Oeste|Distrito Federal|Masculino|26 a 30|     A-Condutor Moto|               1012|\n",
      "|Centro-Oeste|Distrito Federal|Masculino|26 a 30|AB-Condutor Moto/...|              40217|\n",
      "|Centro-Oeste|Distrito Federal|Masculino|26 a 30|AC-Condutor Moto/...|                 31|\n",
      "+------------+----------------+---------+-------+--------------------+-------------------+\n",
      "only showing top 20 rows\n",
      "\n"
     ]
    }
   ],
   "source": [
    "\n",
    "mySchema = StructType([StructField(\"regiao\", StringType(), True),\\\n",
    "                       StructField(\"uf\", StringType(), True),\\\n",
    "                       StructField(\"sexo\", StringType(), True),\\\n",
    "                       StructField(\"idade\", StringType(), True),\\\n",
    "                       StructField(\"categoria\", StringType(), True),\\\n",
    "                       StructField(\"quantidade_condutor\", StringType(), True)])\n",
    "\n",
    "#Create PySpark SparkSession\n",
    "spark = SparkSession.builder.getOrCreate()\n",
    "#Create PySpark DataFrame from Pandas\n",
    "sparkDF=spark.createDataFrame(pandasDF,schema=mySchema) \n",
    "\n",
    "sparkDF = sparkDF.withColumn(\"quantidade_condutor\", sparkDF.quantidade_condutor.cast('integer'))\n",
    "sparkDF = sparkDF.na.drop(\"any\")\n",
    "sparkDF.show()"
   ]
  },
  {
   "cell_type": "code",
   "execution_count": 351,
   "id": "5fa73641",
   "metadata": {},
   "outputs": [
    {
     "name": "stdout",
     "output_type": "stream",
     "text": [
      "+------------+------------------------+\n",
      "|Região      |Quantidade de condutores|\n",
      "+------------+------------------------+\n",
      "|Norte       |4044698                 |\n",
      "|Centro-Oeste|7188875                 |\n",
      "|Nordeste    |12090065                |\n",
      "|Sul         |15225419                |\n",
      "|Sudeste     |39368146                |\n",
      "|Total       |77917203                |\n",
      "+------------+------------------------+\n",
      "\n"
     ]
    }
   ],
   "source": [
    "columns = ['regiao', 'sum(quantidade_condutor)']\n",
    "total = sparkDF.groupBy().sum(\"quantidade_condutor\").rdd.flatMap(lambda x: x).collect()\n",
    "vals = [('Total', int(total[0]))]\n",
    "totalRow = spark.createDataFrame(vals, columns)\n",
    "\n",
    "df_soma_contudores = sparkDF\\\n",
    "        .groupBy(\"regiao\")\\\n",
    "        .sum(\"quantidade_condutor\")\\\n",
    "        .orderBy(\"sum(quantidade_condutor)\")\n",
    "\n",
    "df_soma_contudores = df_soma_contudores.union(totalRow)\n",
    "\n",
    "df_soma_contudores =  df_soma_contudores\\\n",
    "        .withColumnRenamed(\"sum(quantidade_condutor)\", \"Quantidade de condutores\")\\\n",
    "        .withColumnRenamed(\"regiao\", \"Região\")\\\n",
    "        .show(truncate=False)"
   ]
  },
  {
   "cell_type": "code",
   "execution_count": 398,
   "id": "a2d850b9",
   "metadata": {},
   "outputs": [
    {
     "name": "stdout",
     "output_type": "stream",
     "text": [
      "[1598386, 7849180, 23944087, 5976493]\n",
      "[4.060099756793221, 19.93789598321445, 60.8209667785727, 15.181037481419624]\n"
     ]
    },
    {
     "data": {
      "text/plain": [
       "<AxesSubplot:xlabel='Estados do sudeste'>"
      ]
     },
     "execution_count": 398,
     "metadata": {},
     "output_type": "execute_result"
    },
    {
     "data": {
      "image/png": "[encoded data removed]",
      "text/plain": [
       "<Figure size 432x288 with 1 Axes>"
      ]
     },
     "metadata": {
      "needs_background": "light"
     },
     "output_type": "display_data"
    }
   ],
   "source": [
    "df_sudoeste = sparkDF\\\n",
    "        .filter(sparkDF.regiao == 'Sudeste')\\\n",
    "        .groupBy(\"uf\")\\\n",
    "        .sum(\"quantidade_condutor\")\n",
    "\n",
    "data_sudoeste = df_sudoeste.select(col(\"sum(quantidade_condutor)\")).rdd.flatMap(lambda x: x).collect()\n",
    "index_sudoeste = df_sudoeste.select(col(\"uf\")).rdd.flatMap(lambda x: x).collect()\n",
    "\n",
    "soma_total = 0\n",
    "for estado in data_sudoeste:\n",
    "    soma_total += int(estado)\n",
    "\n",
    "i = 0\n",
    "while(i < len(data_sudoeste)):\n",
    "    data_sudoeste[i] = data_sudoeste[i]/soma_total*100\n",
    "    i += 1\n",
    "    \n",
    "df = pd.DataFrame({'Estados do sudeste': index_sudoeste, 'Porcentagem de condutores': data_sudoeste})\n",
    "df.plot.bar(x='Estados do sudeste', y='Porcentagem de condutores') "
   ]
  },
  {
   "cell_type": "code",
   "execution_count": 412,
   "id": "abdfb3fa",
   "metadata": {},
   "outputs": [
    {
     "data": {
      "text/plain": [
       "<AxesSubplot:ylabel='Categorias'>"
      ]
     },
     "execution_count": 412,
     "metadata": {},
     "output_type": "execute_result"
    },
    {
     "data": {
      "image/png": "[encoded data removed]",
      "text/plain": [
       "<Figure size 432x288 with 1 Axes>"
      ]
     },
     "metadata": {
      "needs_background": "light"
     },
     "output_type": "display_data"
    }
   ],
   "source": [
    " df_categoria = sparkDF\\\n",
    "        .filter(sparkDF.uf == 'São Paulo')\\\n",
    "        .groupBy(\"categoria\")\\\n",
    "        .sum(\"quantidade_condutor\")\n",
    "\n",
    "data_categoria = df_categoria.select(col(\"sum(quantidade_condutor)\")).rdd.flatMap(lambda x: x).collect()\n",
    "index_categoria = df_categoria.select(col(\"categoria\")).rdd.flatMap(lambda x: x).collect()\n",
    "\n",
    "soma_total = 0\n",
    "for cat in data_categoria:\n",
    "    soma_total += int(cat)\n",
    "\n",
    "i = 0\n",
    "while(i < len(data_categoria)):\n",
    "    data_categoria[i] = data_categoria[i]/soma_total*100\n",
    "    i += 1\n",
    "    \n",
    "df = pd.DataFrame({'Categorias': index_categoria, 'Porcentagem de condutores': data_categoria})\n",
    "df.plot.barh(x='Categorias', y='Porcentagem de condutores') "
   ]
  },
  {
   "cell_type": "code",
   "execution_count": 421,
   "id": "60209e6f",
   "metadata": {
    "scrolled": false
   },
   "outputs": [
    {
     "data": {
      "text/plain": [
       "<AxesSubplot:ylabel='Categorias'>"
      ]
     },
     "execution_count": 421,
     "metadata": {},
     "output_type": "execute_result"
    },
    {
     "data": {
      "image/png": "[encoded data removed]",
      "text/plain": [
       "<Figure size 432x288 with 1 Axes>"
      ]
     },
     "metadata": {
      "needs_background": "light"
     },
     "output_type": "display_data"
    }
   ],
   "source": [
    " df_categoria2 = sparkDF\\\n",
    "        .filter(sparkDF.uf == 'São Paulo')\\\n",
    "        .filter(sparkDF.categoria != 'AB-Condutor Moto/Carro')\\\n",
    "        .filter(sparkDF.categoria != 'B-Condutor Carro')\\\n",
    "        .groupBy(\"categoria\")\\\n",
    "        .sum(\"quantidade_condutor\")\n",
    "\n",
    "data_categoria = df_categoria2.select(col(\"sum(quantidade_condutor)\")).rdd.flatMap(lambda x: x).collect()\n",
    "index_categoria = df_categoria2.select(col(\"categoria\")).rdd.flatMap(lambda x: x).collect()\n",
    "\n",
    "soma_total = 0\n",
    "for cat in data_categoria:\n",
    "    soma_total += int(cat)\n",
    "\n",
    "i = 0\n",
    "while(i < len(data_categoria)):\n",
    "    data_categoria[i] = data_categoria[i]/soma_total*100\n",
    "    i += 1\n",
    "\n",
    "df = pd.DataFrame({'Categorias': index_categoria, 'Porcentagem de condutores': data_categoria})\n",
    "df.plot.barh(x='Categorias', y='Porcentagem de condutores') "
   ]
  },
  {
   "cell_type": "code",
   "execution_count": 420,
   "id": "dd026fd7",
   "metadata": {},
   "outputs": [
    {
     "name": "stdout",
     "output_type": "stream",
     "text": [
      "+-----------------------------+------------------------+\n",
      "|categoria                    |Quantidade de condutores|\n",
      "+-----------------------------+------------------------+\n",
      "|AE-Condutor Moto/Carreta     |351623                  |\n",
      "|X-Condutor Ciclomotor        |20                      |\n",
      "|C-Condutor Caminhão          |376308                  |\n",
      "|AD-Condutor Moto/Ônibus      |1027689                 |\n",
      "|A-Condutor Moto              |229388                  |\n",
      "|XD-Condutor Ciclomotor/Ônibus|1                       |\n",
      "|XB-Condutor Ciclomotor/Carro |46                      |\n",
      "|D-Condutor Ônibus            |1008561                 |\n",
      "|AC-Condutor Moto/Caminhão    |326150                  |\n",
      "|E-Condutor Carreta           |186491                  |\n",
      "+-----------------------------+------------------------+\n",
      "\n"
     ]
    }
   ],
   "source": [
    "df_categoria2.withColumnRenamed(\"sum(quantidade_condutor)\", \"Quantidade de condutores\")\\\n",
    "             .show(truncate=False)"
   ]
  },
  {
   "cell_type": "code",
   "execution_count": 537,
   "id": "08afedfa",
   "metadata": {},
   "outputs": [
    {
     "name": "stdout",
     "output_type": "stream",
     "text": [
      "+----------------------+-----------+------------------------+\n",
      "|categoria             |idade      |Quantidade de condutores|\n",
      "+----------------------+-----------+------------------------+\n",
      "|B-Condutor Carro      |41 a 50    |2697761                 |\n",
      "|B-Condutor Carro      |31 a 40    |2641717                 |\n",
      "|AB-Condutor Moto/Carro|31 a 40    |2553415                 |\n",
      "|B-Condutor Carro      |51 a 60    |2041401                 |\n",
      "|B-Condutor Carro      |61 a 70    |1706868                 |\n",
      "|AB-Condutor Moto/Carro|41 a 50    |1635021                 |\n",
      "|AB-Condutor Moto/Carro|26 a 30    |1175647                 |\n",
      "|B-Condutor Carro      |71 a 80    |1042247                 |\n",
      "|B-Condutor Carro      |26 a 30    |1001247                 |\n",
      "|AB-Condutor Moto/Carro|51 a 60    |795153                  |\n",
      "|AB-Condutor Moto/Carro|22 a 25    |780704                  |\n",
      "|B-Condutor Carro      |22 a 25    |617093                  |\n",
      "|B-Condutor Carro      |81 a 90    |475762                  |\n",
      "|AB-Condutor Moto/Carro|18 a 21    |352033                  |\n",
      "|AB-Condutor Moto/Carro|61 a 70    |338218                  |\n",
      "|B-Condutor Carro      |18 a 21    |239646                  |\n",
      "|B-Condutor Carro      |91 a 100   |171264                  |\n",
      "|AB-Condutor Moto/Carro|71 a 80    |113086                  |\n",
      "|A-Condutor Moto       |31 a 40    |68944                   |\n",
      "|A-Condutor Moto       |41 a 50    |46001                   |\n",
      "|A-Condutor Moto       |26 a 30    |37942                   |\n",
      "|A-Condutor Moto       |22 a 25    |33149                   |\n",
      "|AB-Condutor Moto/Carro|81 a 90    |31963                   |\n",
      "|A-Condutor Moto       |51 a 60    |23650                   |\n",
      "|B-Condutor Carro      |101 a 120  |19864                   |\n",
      "|A-Condutor Moto       |18 a 21    |9063                    |\n",
      "|A-Condutor Moto       |61 a 70    |7523                    |\n",
      "|AB-Condutor Moto/Carro|91 a 100   |7121                    |\n",
      "|A-Condutor Moto       |71 a 80    |2185                    |\n",
      "|A-Condutor Moto       |81 a 90    |744                     |\n",
      "|AB-Condutor Moto/Carro|101 a 120  |578                     |\n",
      "|A-Condutor Moto       |91 a 100   |171                     |\n",
      "|A-Condutor Moto       |101 a 120  |16                      |\n",
      "|AB-Condutor Moto/Carro|Mais de 120|1                       |\n",
      "+----------------------+-----------+------------------------+\n",
      "\n"
     ]
    }
   ],
   "source": [
    "df_autoescola = sparkDF\\\n",
    "        .filter(sparkDF.uf == 'São Paulo')\\\n",
    "        .filter((sparkDF.categoria == 'AB-Condutor Moto/Carro') | (sparkDF.categoria == 'B-Condutor Carro') | (sparkDF.categoria == 'A-Condutor Moto'))\\\n",
    "        .groupBy(\"categoria\",\"idade\")\\\n",
    "        .sum(\"quantidade_condutor\")\\\n",
    "        .withColumnRenamed(\"sum(quantidade_condutor)\", \"Quantidade de condutores\")\\\n",
    "        .orderBy(col('Quantidade de condutores').desc())\n",
    "\n",
    "df_autoescola.show(truncate=False, n=50)"
   ]
  },
  {
   "cell_type": "code",
   "execution_count": 538,
   "id": "2b9f3cd8",
   "metadata": {},
   "outputs": [
    {
     "name": "stdout",
     "output_type": "stream",
     "text": [
      "+--------+------------------------+\n",
      "|   idade|Quantidade de condutores|\n",
      "+--------+------------------------+\n",
      "|91 a 100|                  178556|\n",
      "| 81 a 90|                  508469|\n",
      "| 71 a 80|                 1157518|\n",
      "| 61 a 70|                 2052609|\n",
      "| 51 a 60|                 2860204|\n",
      "| 41 a 50|                 4378783|\n",
      "| 31 a 40|                 5264076|\n",
      "| 18 a 30|                 4246524|\n",
      "+--------+------------------------+\n",
      "\n"
     ]
    },
    {
     "data": {
      "text/plain": [
       "<AxesSubplot:ylabel='Idades'>"
      ]
     },
     "execution_count": 538,
     "metadata": {},
     "output_type": "execute_result"
    },
    {
     "data": {
      "image/png": "[encoded data removed]",
      "text/plain": [
       "<Figure size 432x288 with 1 Axes>"
      ]
     },
     "metadata": {
      "needs_background": "light"
     },
     "output_type": "display_data"
    }
   ],
   "source": [
    "df_autoescola_idade = df_autoescola.groupBy(\"idade\")\\\n",
    "        .sum(\"Quantidade de condutores\")\\\n",
    "        .filter(df_autoescola.idade != 'Mais de 120')\\\n",
    "        .filter(df_autoescola.idade != '101 a 120')\\\n",
    "        .filter(df_autoescola.idade != '18 a 21')\\\n",
    "        .filter(df_autoescola.idade != '22 a 25')\\\n",
    "        .filter(df_autoescola.idade != '26 a 30')\\\n",
    "        .withColumnRenamed(\"sum(Quantidade de condutores)\", \"Quantidade de condutores\")\\\n",
    "        .orderBy(col('idade').desc())\n",
    "\n",
    "#juntando 18 a 21, 22 a 25 e 26 a 30\n",
    "df_autoescola_idade_menor_30 = df_autoescola\\\n",
    "        .filter((df_autoescola.idade == '18 a 21')|(df_autoescola.idade == '22 a 25')|(df_autoescola.idade == '26 a 30'))\\\n",
    "        .groupBy()\\\n",
    "        .sum(\"Quantidade de condutores\")\\\n",
    "        .withColumnRenamed(\"sum(Quantidade de condutores)\", \"Quantidade de condutores\")\n",
    "\n",
    "menor_30 = df_autoescola_idade_menor_30.select(col(\"Quantidade de condutores\")).rdd.flatMap(lambda x: x).collect()\n",
    "columns = ['idade', 'Quantidade de condutores']\n",
    "vals = [('18 a 30', int(menor_30[0]))]\n",
    "totalRow = spark.createDataFrame(vals, columns)\n",
    "\n",
    "df_autoescola_idade = df_autoescola_idade.union(totalRow)\n",
    "df_autoescola_idade.show()\n",
    "\n",
    "\n",
    "data_idade = df_autoescola_idade.select(col(\"Quantidade de condutores\")).rdd.flatMap(lambda x: x).collect()\n",
    "index_idade = df_autoescola_idade.select(col(\"idade\")).rdd.flatMap(lambda x: x).collect()\n",
    "\n",
    "\n",
    "df = pd.DataFrame({'Idades': index_idade, 'Porcentagem de condutores': data_idade})\n",
    "df.plot.barh(x='Idades', y='Porcentagem de condutores') "
   ]
  },
  {
   "cell_type": "code",
   "execution_count": 548,
   "id": "df79b266",
   "metadata": {},
   "outputs": [
    {
     "name": "stdout",
     "output_type": "stream",
     "text": [
      "+----------------------+-------+------------------------+\n",
      "|categoria             |idade  |Quantidade de condutores|\n",
      "+----------------------+-------+------------------------+\n",
      "|AB-Condutor Moto/Carro|18 a 30|2308384                 |\n",
      "|AB-Condutor Moto/Carro|31 a 40|2553415                 |\n",
      "|B-Condutor Carro      |18 a 30|1857986                 |\n",
      "|B-Condutor Carro      |31 a 40|2641717                 |\n",
      "+----------------------+-------+------------------------+\n",
      "\n"
     ]
    }
   ],
   "source": [
    "df_2022 = sparkDF\\\n",
    "        .filter(sparkDF.uf == 'São Paulo')\\\n",
    "        .filter((sparkDF.categoria == 'AB-Condutor Moto/Carro') | (sparkDF.categoria == 'B-Condutor Carro'))\\\n",
    "        .filter(df_autoescola.idade == '31 a 40')\\\n",
    "        .groupBy(\"categoria\",\"idade\")\\\n",
    "        .sum(\"quantidade_condutor\")\\\n",
    "        .withColumnRenamed(\"sum(quantidade_condutor)\", \"Quantidade de condutores\")\\\n",
    "        \n",
    "\n",
    "df_2022_2 = sparkDF\\\n",
    "        .filter(sparkDF.uf == 'São Paulo')\\\n",
    "        .filter((sparkDF.categoria == 'AB-Condutor Moto/Carro') | (sparkDF.categoria == 'B-Condutor Carro'))\\\n",
    "        .filter((df_autoescola.idade == '18 a 21')|(df_autoescola.idade == '22 a 25')|(df_autoescola.idade == '26 a 30'))\\\n",
    "        .groupBy(\"categoria\")\\\n",
    "        .sum(\"quantidade_condutor\")\\\n",
    "        .withColumnRenamed(\"sum(quantidade_condutor)\", \"Quantidade de condutores\")\\\n",
    "        .orderBy(col('categoria'))\n",
    "    \n",
    "menor_30 = df_2022_2.select(col(\"Quantidade de condutores\")).rdd.flatMap(lambda x: x).collect()\n",
    "columns = ['categoria','idade', 'Quantidade de condutores']\n",
    "vals1 = [('AB-Condutor Moto/Carro','18 a 30', int(menor_30[0]))]\n",
    "vals2 = [('B-Condutor Carro','18 a 30', int(menor_30[1]))]\n",
    "totalRow1 = spark.createDataFrame(vals1, columns)\n",
    "totalRow2 = spark.createDataFrame(vals2, columns)\n",
    "\n",
    "df_2022_res = df_2022.union(totalRow1)\n",
    "df_2022_res = df_2022_res.union(totalRow2)\n",
    "\n",
    "\n",
    "df_2022_res.orderBy(col('categoria'),col('idade')).show(truncate=False, n=50)"
   ]
  },
  {
   "cell_type": "code",
   "execution_count": 541,
   "id": "5b88d72a",
   "metadata": {},
   "outputs": [],
   "source": [
    "# 2020 ===============\n",
    "source_file = '/home/otavio/Documentos/bd3/2020_04.csv'\n",
    "target_file = '/home/otavio/Documentos/bd3/2020_04_utf8.csv'\n",
    "\n",
    "with open(source_file, 'rb') as source:\n",
    "    with open(target_file, 'w+b') as target:\n",
    "        contents = source.read()\n",
    "        target.write(contents.decode('utf-16').encode('utf-8'))\n",
    "\n",
    "with open(target_file, encoding=\"utf8\", errors='ignore') as f:\n",
    "    contents = f.read()\n",
    "\n",
    "array = contents.split('\\n')\n",
    "array.pop(0)\n",
    "\n",
    "matriz = []\n",
    "for linha in array:\n",
    "    valor = linha.split(',')\n",
    "    matriz.append(valor)\n",
    "\n",
    "def stripDQ(string):\n",
    "    return string.replace('\"', \"\").replace('.', \"\")\n",
    "udf_stripDQ = udf(stripDQ, StringType())\n",
    "\n",
    "pandasDF = pd.DataFrame(matriz)\n",
    "df_2020 = spark.createDataFrame(pandasDF,schema=mySchema) \n",
    "df_2020 = df_2020.na.drop(\"any\")\n",
    "df_2020 = df_2020.withColumn(\"quantidade_condutor\", udf_stripDQ(df_2020[\"quantidade_condutor\"])).withColumn(\"uf\", udf_stripDQ(df_2020[\"uf\"])).withColumn(\"regiao\", udf_stripDQ(df_2020[\"regiao\"])).withColumn(\"sexo\", udf_stripDQ(df_2020[\"sexo\"])).withColumn(\"idade\", udf_stripDQ(df_2020[\"idade\"])).withColumn(\"categoria\", udf_stripDQ(df_2020[\"categoria\"]))\n",
    "df_2020 = df_2020.withColumn(\"quantidade_condutor\", df_2020.quantidade_condutor.cast('integer'))\n"
   ]
  },
  {
   "cell_type": "code",
   "execution_count": 547,
   "id": "1251a7a0",
   "metadata": {},
   "outputs": [
    {
     "name": "stdout",
     "output_type": "stream",
     "text": [
      "+----------------------+-------+------------------------+\n",
      "|categoria             |idade  |Quantidade de condutores|\n",
      "+----------------------+-------+------------------------+\n",
      "|AB-Condutor Moto/Carro|18 a 30|2409933                 |\n",
      "|AB-Condutor Moto/Carro|31 a 40|2431260                 |\n",
      "|B-Condutor Carro      |18 a 30|1990684                 |\n",
      "|B-Condutor Carro      |31 a 40|2759295                 |\n",
      "+----------------------+-------+------------------------+\n",
      "\n"
     ]
    }
   ],
   "source": [
    "df_2020_1 = df_2020\\\n",
    "        .filter(df_2020.uf == 'São Paulo')\\\n",
    "        .filter((df_2020.categoria == 'AB-Condutor Moto/Carro') | (df_2020.categoria == 'B-Condutor Carro'))\\\n",
    "        .filter(df_2020.idade == '31 a 40')\\\n",
    "        .groupBy(\"categoria\",\"idade\")\\\n",
    "        .sum(\"quantidade_condutor\")\\\n",
    "        .withColumnRenamed(\"sum(quantidade_condutor)\", \"Quantidade de condutores\")\n",
    "\n",
    "df_2020_2 = df_2020\\\n",
    "        .filter(df_2020.uf == 'São Paulo')\\\n",
    "        .filter((df_2020.categoria == 'AB-Condutor Moto/Carro') | (df_2020.categoria == 'B-Condutor Carro'))\\\n",
    "        .filter((df_2020.idade == '18 a 21')|(df_2020.idade == '22 a 25')|(df_2020.idade == '26 a 30'))\\\n",
    "        .groupBy(\"categoria\")\\\n",
    "        .sum(\"quantidade_condutor\")\\\n",
    "        .withColumnRenamed(\"sum(quantidade_condutor)\", \"Quantidade de condutores\")\\\n",
    "        .orderBy(col('categoria'))\n",
    "\n",
    "menor_30 = df_2020_2.select(col(\"Quantidade de condutores\")).rdd.flatMap(lambda x: x).collect()\n",
    "columns = ['categoria','idade', 'Quantidade de condutores']\n",
    "vals1 = [('AB-Condutor Moto/Carro','18 a 30', int(menor_30[0]))]\n",
    "vals2 = [('B-Condutor Carro','18 a 30', int(menor_30[1]))]\n",
    "totalRow1 = spark.createDataFrame(vals1, columns)\n",
    "totalRow2 = spark.createDataFrame(vals2, columns)\n",
    "\n",
    "df_2020_res = df_2020_1.union(totalRow1)\n",
    "df_2020_res = df_2020_res.union(totalRow2)\n",
    "\n",
    "\n",
    "df_2020_res.orderBy(col('categoria'),col('idade')).show(truncate=False, n=50)"
   ]
  },
  {
   "cell_type": "code",
   "execution_count": 543,
   "id": "a74604d2",
   "metadata": {},
   "outputs": [],
   "source": [
    "# 2021 ===============\n",
    "source_file = '/home/otavio/Documentos/bd3/2021_04.csv'\n",
    "target_file = '/home/otavio/Documentos/bd3/2021_04_utf8.csv'\n",
    "\n",
    "with open(source_file, 'rb') as source:\n",
    "    with open(target_file, 'w+b') as target:\n",
    "        contents = source.read()\n",
    "        target.write(contents.decode('utf-16').encode('utf-8'))\n",
    "\n",
    "with open(target_file, encoding=\"utf8\", errors='ignore') as f:\n",
    "    contents = f.read()\n",
    "\n",
    "array = contents.split('\\n')\n",
    "array.pop(0)\n",
    "\n",
    "matriz = []\n",
    "for linha in array:\n",
    "    valor = linha.split(',')\n",
    "    matriz.append(valor)\n",
    "\n",
    "def stripDQ(string):\n",
    "    return string.replace('\"', \"\").replace('.', \"\")\n",
    "udf_stripDQ = udf(stripDQ, StringType())\n",
    "\n",
    "pandasDF = pd.DataFrame(matriz)\n",
    "df_2021 = spark.createDataFrame(pandasDF,schema=mySchema) \n",
    "df_2021 = df_2021.na.drop(\"any\")\n",
    "df_2021 = df_2021.withColumn(\"quantidade_condutor\", udf_stripDQ(df_2021[\"quantidade_condutor\"])).withColumn(\"uf\", udf_stripDQ(df_2021[\"uf\"])).withColumn(\"regiao\", udf_stripDQ(df_2021[\"regiao\"])).withColumn(\"sexo\", udf_stripDQ(df_2021[\"sexo\"])).withColumn(\"idade\", udf_stripDQ(df_2021[\"idade\"])).withColumn(\"categoria\", udf_stripDQ(df_2021[\"categoria\"]))\n",
    "df_2021 = df_2021.withColumn(\"quantidade_condutor\", df_2021.quantidade_condutor.cast('integer'))"
   ]
  },
  {
   "cell_type": "code",
   "execution_count": 546,
   "id": "3d7d1ef7",
   "metadata": {
    "scrolled": true
   },
   "outputs": [
    {
     "name": "stdout",
     "output_type": "stream",
     "text": [
      "+----------------------+-------+------------------------+\n",
      "|categoria             |idade  |Quantidade de condutores|\n",
      "+----------------------+-------+------------------------+\n",
      "|AB-Condutor Moto/Carro|18 a 30|2261155                 |\n",
      "|AB-Condutor Moto/Carro|31 a 40|2487744                 |\n",
      "|B-Condutor Carro      |18 a 30|1851710                 |\n",
      "|B-Condutor Carro      |31 a 40|2690742                 |\n",
      "+----------------------+-------+------------------------+\n",
      "\n"
     ]
    }
   ],
   "source": [
    "df_2021_1 = df_2021\\\n",
    "        .filter(df_2021.uf == 'São Paulo')\\\n",
    "        .filter((df_2021.categoria == 'AB-Condutor Moto/Carro') | (df_2021.categoria == 'B-Condutor Carro'))\\\n",
    "        .filter(df_2021.idade == '31 a 40')\\\n",
    "        .groupBy(\"categoria\",\"idade\")\\\n",
    "        .sum(\"quantidade_condutor\")\\\n",
    "        .withColumnRenamed(\"sum(quantidade_condutor)\", \"Quantidade de condutores\")\n",
    "\n",
    "df_2021_2 = df_2021\\\n",
    "        .filter(df_2021.uf == 'São Paulo')\\\n",
    "        .filter((df_2021.categoria == 'AB-Condutor Moto/Carro') | (df_2021.categoria == 'B-Condutor Carro'))\\\n",
    "        .filter((df_2021.idade == '18 a 21')|(df_2021.idade == '22 a 25')|(df_2021.idade == '26 a 30'))\\\n",
    "        .groupBy(\"categoria\")\\\n",
    "        .sum(\"quantidade_condutor\")\\\n",
    "        .withColumnRenamed(\"sum(quantidade_condutor)\", \"Quantidade de condutores\")\\\n",
    "        .orderBy(col('categoria'))\n",
    "\n",
    "menor_30 = df_2021_2.select(col(\"Quantidade de condutores\")).rdd.flatMap(lambda x: x).collect()\n",
    "columns = ['categoria','idade', 'Quantidade de condutores']\n",
    "vals1 = [('AB-Condutor Moto/Carro','18 a 30', int(menor_30[0]))]\n",
    "vals2 = [('B-Condutor Carro','18 a 30', int(menor_30[1]))]\n",
    "totalRow1 = spark.createDataFrame(vals1, columns)\n",
    "totalRow2 = spark.createDataFrame(vals2, columns)\n",
    "\n",
    "df_2021_res = df_2021_1.union(totalRow1)\n",
    "df_2021_res = df_2021_res.union(totalRow2)\n",
    "\n",
    "\n",
    "df_2021_res.orderBy(col('categoria'),col('idade')).show(truncate=False, n=50)"
   ]
  },
  {
   "cell_type": "code",
   "execution_count": 561,
   "id": "246c750e",
   "metadata": {},
   "outputs": [
    {
     "name": "stderr",
     "output_type": "stream",
     "text": [
      "                                                                                \r"
     ]
    }
   ],
   "source": [
    "res2022 = df_2022_res.select(col(\"Quantidade de condutores\")).rdd.flatMap(lambda x: x).collect()\n",
    "res2021 = df_2021_res.select(col(\"Quantidade de condutores\")).rdd.flatMap(lambda x: x).collect()\n",
    "res2020 = df_2020_res.select(col(\"Quantidade de condutores\")).rdd.flatMap(lambda x: x).collect()\n",
    "index = ['2020','2021','2022']\n",
    "categorias = [[res2020[0],res2021[0],res2022[0]],[res2020[1],res2021[1],res2022[1]],[res2020[2],res2021[2],res2022[2]],[res2020[3],res2021[3],res2022[3]]]"
   ]
  },
  {
   "cell_type": "code",
   "execution_count": 588,
   "id": "a6fc3313",
   "metadata": {
    "scrolled": true
   },
   "outputs": [
    {
     "data": {
      "text/plain": [
       "<AxesSubplot:>"
      ]
     },
     "execution_count": 588,
     "metadata": {},
     "output_type": "execute_result"
    },
    {
     "data": {
      "image/png": "[encoded data removed]",
      "text/plain": [
       "<Figure size 432x288 with 1 Axes>"
      ]
     },
     "metadata": {
      "needs_background": "light"
     },
     "output_type": "display_data"
    }
   ],
   "source": [
    "df = pd.DataFrame({'B   | 31 a 40': categorias[0],'B   | 18 a 30': categorias[1],'AB | 31 a 40': categorias[2],'AB | 18 a 30': categorias[3]},index = ['2020','2021','2022'])\n",
    "df.plot.line() "
   ]
  },
  {
   "cell_type": "code",
   "execution_count": 576,
   "id": "67b13ba2",
   "metadata": {
    "scrolled": true
   },
   "outputs": [
    {
     "data": {
      "text/plain": [
       "<AxesSubplot:>"
      ]
     },
     "execution_count": 576,
     "metadata": {},
     "output_type": "execute_result"
    },
    {
     "data": {
      "image/png": "[encoded data removed]",
      "text/plain": [
       "<Figure size 432x288 with 1 Axes>"
      ]
     },
     "metadata": {
      "needs_background": "light"
     },
     "output_type": "display_data"
    }
   ],
   "source": []
  },
  {
   "cell_type": "code",
   "execution_count": 574,
   "id": "f2bdba99",
   "metadata": {},
   "outputs": [
    {
     "data": {
      "text/plain": [
       "<AxesSubplot:>"
      ]
     },
     "execution_count": 574,
     "metadata": {},
     "output_type": "execute_result"
    },
    {
     "data": {
      "image/png": "[encoded data removed]",
      "text/plain": [
       "<Figure size 432x288 with 1 Axes>"
      ]
     },
     "metadata": {
      "needs_background": "light"
     },
     "output_type": "display_data"
    }
   ],
   "source": [
    "df = ps.DataFrame({'pig': [20, 18, 489, 675, 1776],\n",
    "                   'horse': [4, 25, 281, 600, 1900]},\n",
    "                  index=[1990, 1997, 2003, 2009, 2014])\n",
    "df.plot.line()  "
   ]
  }
 ],
 "metadata": {
  "kernelspec": {
   "display_name": "Python 3 (ipykernel)",
   "language": "python",
   "name": "python3"
  },
  "language_info": {
   "codemirror_mode": {
    "name": "ipython",
    "version": 3
   },
   "file_extension": ".py",
   "mimetype": "text/x-python",
   "name": "python",
   "nbconvert_exporter": "python",
   "pygments_lexer": "ipython3",
   "version": "3.8.10"
  }
 },
 "nbformat": 4,
 "nbformat_minor": 5
}
